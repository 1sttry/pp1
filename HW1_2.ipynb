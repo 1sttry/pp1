{
 "cells": [
  {
   "cell_type": "markdown",
   "metadata": {},
   "source": [
    "# Data Processing I \n",
    "### Homework I"
   ]
  },
  {
   "cell_type": "markdown",
   "metadata": {},
   "source": [
    "#### Task 1 – Installation of Anaconda\n",
    "First I've googled the \"anaconda\" and \"python\" keywords, which led me to Continuum Analytics' webpage. I chose my OS, downloaded the adequate graphical installer and following the instructions installed the Anaconda Navigator."
   ]
  },
  {
   "cell_type": "markdown",
   "metadata": {},
   "source": [
    "#### Task 2 – Python3 progress\n"
   ]
  },
  {
   "cell_type": "code",
   "execution_count": 2,
   "metadata": {
    "collapsed": false
   },
   "outputs": [
    {
     "data": {
      "text/plain": [
       "6"
      ]
     },
     "execution_count": 2,
     "metadata": {},
     "output_type": "execute_result"
    }
   ],
   "source": [
    "#using interpreter as a calculator\n",
    "3+3"
   ]
  },
  {
   "cell_type": "code",
   "execution_count": 1,
   "metadata": {
    "collapsed": false
   },
   "outputs": [
    {
     "name": "stdout",
     "output_type": "stream",
     "text": [
      "17\n"
     ]
    }
   ],
   "source": [
    "#assigning value to a variable\n",
    "x=17\n",
    "print(x)"
   ]
  },
  {
   "cell_type": "code",
   "execution_count": 2,
   "metadata": {
    "collapsed": false
   },
   "outputs": [
    {
     "name": "stdout",
     "output_type": "stream",
     "text": [
      "232.0\n"
     ]
    }
   ],
   "source": [
    "x=20\n",
    "y=10\n",
    "print(x*y+x+y+x/y) "
   ]
  },
  {
   "cell_type": "code",
   "execution_count": 5,
   "metadata": {
    "collapsed": false
   },
   "outputs": [
    {
     "name": "stdout",
     "output_type": "stream",
     "text": [
      "redbluegreen\n"
     ]
    }
   ],
   "source": [
    "#Not only numbers, but strings as well can be assigned to variables.\n",
    "r=\"red\"\n",
    "b='blue'\n",
    "g=\"green\"\n",
    "#it makes no difference whether single quotes or double quotes are being used\n",
    "print(r+b+g)"
   ]
  },
  {
   "cell_type": "code",
   "execution_count": 6,
   "metadata": {
    "collapsed": false
   },
   "outputs": [
    {
     "name": "stdout",
     "output_type": "stream",
     "text": [
      "C\n"
     ]
    }
   ],
   "source": [
    "#strings can be also indexed\n",
    "x='Camus'\n",
    "print(x[0]) #prints the first element of x\n",
    "\n"
   ]
  },
  {
   "cell_type": "code",
   "execution_count": 7,
   "metadata": {
    "collapsed": false
   },
   "outputs": [
    {
     "name": "stdout",
     "output_type": "stream",
     "text": [
      "L\n",
      "e\n",
      "b\n",
      "r\n",
      "o\n",
      "n\n"
     ]
    }
   ],
   "source": [
    "x=\"Lebron\"\n",
    "for i in range(len(x)):\n",
    "    print(x[i])\n",
    "    \n",
    "\n",
    "    \n",
    "    "
   ]
  },
  {
   "cell_type": "code",
   "execution_count": 8,
   "metadata": {
    "collapsed": false
   },
   "outputs": [
    {
     "name": "stdout",
     "output_type": "stream",
     "text": [
      "5\n",
      "['J', 'a', 'm', 'e', 's']\n",
      "['s', 'e', 'm', 'a', 'J']\n"
     ]
    }
   ],
   "source": [
    "x=\"James\"\n",
    "y=len(x)\n",
    "print(y)\n",
    "q=[]  #q is a list with no elements\n",
    "for i in range(y):#filling the empty list with the elements of a string\n",
    "    q.append(x[i])\n",
    "print(q)\n",
    "q.reverse()\n",
    "print(q)"
   ]
  },
  {
   "cell_type": "code",
   "execution_count": 9,
   "metadata": {
    "collapsed": false
   },
   "outputs": [
    {
     "name": "stdout",
     "output_type": "stream",
     "text": [
      "0\n",
      "1\n",
      "1\n",
      "2\n",
      "3\n",
      "5\n",
      "8\n",
      "13\n",
      "21\n",
      "34\n",
      "55\n",
      "89\n",
      "144\n",
      "233\n",
      "377\n",
      "610\n",
      "987\n",
      "1597\n",
      "2584\n",
      "4181\n"
     ]
    }
   ],
   "source": [
    "#Lists\n",
    "#generating the first 20 elements of a fibonacci sequence \n",
    "x, y=0,1\n",
    "for i in range(20):\n",
    "    print(x)\n",
    "    x,y =y, x+y\n",
    "    "
   ]
  },
  {
   "cell_type": "code",
   "execution_count": 10,
   "metadata": {
    "collapsed": false
   },
   "outputs": [
    {
     "name": "stdout",
     "output_type": "stream",
     "text": [
      "[2, 3, 5, 7, 11, 13, 17, 19, 23, 29, 31, 37, 41, 43, 47, 53, 59, 61, 67, 71, 73, 79, 83, 89, 97]\n"
     ]
    }
   ],
   "source": [
    "#generating the first 100 prime numbers  \n",
    "from math import sqrt\n",
    "\n",
    "def prime (x): #defining a function\n",
    "    i=3\n",
    "    if x != 2:\n",
    "        if x % 2!=0 and x!=1:\n",
    "            while i <= sqrt(x):\n",
    "                if x%i==0:\n",
    "                    return False\n",
    "                    break\n",
    "                i=i+2\n",
    "            else:\n",
    "                return True\n",
    "        else: \n",
    "            return False\n",
    "    else: \n",
    "        return True\n",
    "\n",
    "\n",
    "ls = []\n",
    "for i in range(100):\n",
    "    if prime(i):\n",
    "        ls.append(i)\n",
    "print (ls)"
   ]
  },
  {
   "cell_type": "code",
   "execution_count": 12,
   "metadata": {
    "collapsed": false
   },
   "outputs": [
    {
     "name": "stdout",
     "output_type": "stream",
     "text": [
      "[1, 2, 3, 4, 5]\n",
      "[1, 2, 3, 4, 5, 99]\n",
      "[1, 2, 3, 4, 5]\n",
      "[1, 2, 3, 4]\n"
     ]
    }
   ],
   "source": [
    "#stack – Last In First Out\n",
    "y = [1,2,3,4,5]\n",
    "print(y)\n",
    "y.append(99)\n",
    "print(y)\n",
    "y.pop()\n",
    "print(y)\n",
    "y.pop()\n",
    "print(y)"
   ]
  },
  {
   "cell_type": "code",
   "execution_count": 13,
   "metadata": {
    "collapsed": false
   },
   "outputs": [
    {
     "name": "stdout",
     "output_type": "stream",
     "text": [
      "deque([])\n",
      "deque(['A'])\n",
      "deque(['A', 'B'])\n",
      "deque(['A', 'B', 'C'])\n",
      "deque(['A', 'B', 'C', 'D'])\n",
      "deque(['B', 'C', 'D'])\n",
      "deque(['C', 'D'])\n",
      "deque(['D'])\n",
      "deque([])\n"
     ]
    }
   ],
   "source": [
    "# queue – First in, first out \n",
    "#to implement a queue, use collections.deque\n",
    "\n",
    "from collections import deque \n",
    "p = deque([])\n",
    "print(p)\n",
    "p.append(\"A\")\n",
    "print(p)\n",
    "p.append(\"B\")\n",
    "print(p)\n",
    "p.append(\"C\")\n",
    "print(p)\n",
    "p.append(\"D\")\n",
    "print(p)\n",
    "p.popleft() #first to arrive leaves\n",
    "print(p)\n",
    "p.popleft()\n",
    "print(p)\n",
    "p.popleft() \n",
    "print(p)\n",
    "p.popleft()\n",
    "print(p)"
   ]
  },
  {
   "cell_type": "code",
   "execution_count": 14,
   "metadata": {
    "collapsed": false
   },
   "outputs": [
    {
     "name": "stdout",
     "output_type": "stream",
     "text": [
      "[0, 1, 4, 9, 16]\n",
      "[0, 1, 4, 9, 16]\n",
      "[(0, 1), (0, 2), (1, 0), (1, 2), (2, 0), (2, 1)]\n",
      "[(0, 0), (0, 1), (0, 2), (1, 0), (1, 1), (1, 2), (2, 0), (2, 1), (2, 2)]\n"
     ]
    }
   ],
   "source": [
    "#list comprehension\n",
    "squares = []\n",
    "for x in range(5):\n",
    "    squares.append(x**2)\n",
    "print(squares)\n",
    "\n",
    "squares1 = [x**2 for x in range(5)]\n",
    "print(squares1)\n",
    "\n",
    "print([(x,y) for x in range(3) for y in range(3) if x != y])\n",
    "print([(x,y) for x in range(3) for y in range(3)])"
   ]
  },
  {
   "cell_type": "code",
   "execution_count": 19,
   "metadata": {
    "collapsed": false
   },
   "outputs": [
    {
     "name": "stdout",
     "output_type": "stream",
     "text": [
      "[-1, -2, -3, -4, 1, 2, 3, 4]\n",
      "[1, 2, 3, 4]\n",
      "[0.0, 0.3010299956639812, 0.47712125471966244, 0.6020599913279624]\n"
     ]
    }
   ],
   "source": [
    "#filtering lists and applying function\n",
    "from math import log10\n",
    "d = [-1,-2,-3,-4,1,2,3,4]\n",
    "print(d)\n",
    "print([i for i in d if i > 0])\n",
    "print([log10(i) for i in d if i > 0])"
   ]
  },
  {
   "cell_type": "code",
   "execution_count": 16,
   "metadata": {
    "collapsed": false
   },
   "outputs": [
    {
     "name": "stdout",
     "output_type": "stream",
     "text": [
      "{'c', 'e', 'h', 'f', 'b', 'g', 'a', 'd'}\n",
      "True\n",
      "True\n",
      "True\n",
      "False\n"
     ]
    }
   ],
   "source": [
    "#Sets\n",
    "n = {'a','b','c','d','e','f','g','h'}\n",
    "print (n)\n",
    "print('a' in n)\n",
    "print('b' in n)\n",
    "print('g' in n)\n",
    "print('n' in n)"
   ]
  },
  {
   "cell_type": "code",
   "execution_count": 17,
   "metadata": {
    "collapsed": false
   },
   "outputs": [
    {
     "name": "stdout",
     "output_type": "stream",
     "text": [
      "set()\n",
      "{'v', 'c', 'm', 'n', 'h', 'f', 'j', 's', 'b', 'g', 'a', 'd'}\n",
      "{'a', 'b'}\n"
     ]
    }
   ],
   "source": [
    "#Sets_2\n",
    "p=set() #empty dictionary\n",
    "a=set('asdfghjmhnbvcsasvdbfnmn')\n",
    "b=set('aaaaaaaaaaaaaaaaab')\n",
    "print(p)\n",
    "print(a)\n",
    "print(b)"
   ]
  },
  {
   "cell_type": "code",
   "execution_count": 18,
   "metadata": {
    "collapsed": false
   },
   "outputs": [
    {
     "name": "stdout",
     "output_type": "stream",
     "text": [
      "{'Anne': 19, 'Michael': 21, 'Pierre': 30, 'Alice': 25}\n",
      "19\n",
      "{'Anne': [19, 170], 'Michael': [21, 191], 'Pierre': [30, 178], 'Alice': [25, 163]}\n",
      "{'Anne': [19, 170], 'Pierre': [30, 178], 'Alice': [25, 163]}\n",
      "Anne is  19\n"
     ]
    }
   ],
   "source": [
    "#Dictionaries\n",
    "md = {'Anne': 19, 'Michael':21,'Pierre':30,'Alice':25}\n",
    "print (md)\n",
    "print(md['Anne'])\n",
    "zd = {'Anne': [19,170], 'Michael':[21,191],'Pierre':[30,178],'Alice':[25,163]}\n",
    "print(zd)\n",
    "del zd['Michael']\n",
    "print(zd)\n",
    "print(\"Anne is \", zd['Anne'][0])"
   ]
  },
  {
   "cell_type": "code",
   "execution_count": 20,
   "metadata": {
    "collapsed": false
   },
   "outputs": [
    {
     "name": "stdout",
     "output_type": "stream",
     "text": [
      "Anne 19\n",
      "Michael 21\n",
      "Pierre 30\n",
      "Alice 25\n"
     ]
    }
   ],
   "source": [
    "#looping through dictionaries\n",
    "md = {'Anne': 19, 'Michael':21,'Pierre':30,'Alice':25}\n",
    "for k,v in md.items(): #k-key, v-value\n",
    "    print(k,v)"
   ]
  },
  {
   "cell_type": "code",
   "execution_count": 22,
   "metadata": {
    "collapsed": false
   },
   "outputs": [
    {
     "name": "stdout",
     "output_type": "stream",
     "text": [
      "Anne\n",
      "Michael\n",
      "Pierre\n",
      "Alice\n"
     ]
    }
   ],
   "source": [
    "#looping through dictionaries2\n",
    "md = {'Anne': 19, 'Michael':21,'Pierre':30,'Alice':25}\n",
    "for k in md.keys(): \n",
    "    print(k)"
   ]
  },
  {
   "cell_type": "code",
   "execution_count": 23,
   "metadata": {
    "collapsed": false
   },
   "outputs": [
    {
     "name": "stdout",
     "output_type": "stream",
     "text": [
      "19\n",
      "21\n",
      "30\n",
      "25\n"
     ]
    }
   ],
   "source": [
    "#looping through dictionaries3\n",
    "md = {'Anne': 19, 'Michael':21,'Pierre':30,'Alice':25}\n",
    "for v in md.values(): \n",
    "    print(v)"
   ]
  },
  {
   "cell_type": "code",
   "execution_count": 31,
   "metadata": {
    "collapsed": false
   },
   "outputs": [
    {
     "name": "stdout",
     "output_type": "stream",
     "text": [
      "Anne [19, 170]\n",
      "Michael [21, 191]\n",
      "Pierre [30, 178]\n",
      "Alice [25, 163]\n",
      "[19, 170]\n",
      "[21, 191]\n",
      "[30, 178]\n",
      "[25, 163]\n"
     ]
    }
   ],
   "source": [
    "#looping through dictionaries4\n",
    "zd = {'Anne': [19,170], 'Michael':[21,191],'Pierre':[30,178],'Alice':[25,163]}\n",
    "for k,v in zd.items():\n",
    "    print(k,v)\n",
    "for v in zd.values():\n",
    "    print(v)"
   ]
  },
  {
   "cell_type": "code",
   "execution_count": null,
   "metadata": {
    "collapsed": true
   },
   "outputs": [],
   "source": []
  }
 ],
 "metadata": {
  "kernelspec": {
   "display_name": "Python 3",
   "language": "python",
   "name": "python3"
  },
  "language_info": {
   "codemirror_mode": {
    "name": "ipython",
    "version": 3
   },
   "file_extension": ".py",
   "mimetype": "text/x-python",
   "name": "python",
   "nbconvert_exporter": "python",
   "pygments_lexer": "ipython3",
   "version": "3.6.0"
  }
 },
 "nbformat": 4,
 "nbformat_minor": 2
}
